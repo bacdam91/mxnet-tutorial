{
  "nbformat": 4,
  "nbformat_minor": 0,
  "metadata": {
    "colab": {
      "name": "Manipulate data with ndarray",
      "provenance": [],
      "collapsed_sections": [],
      "include_colab_link": true
    },
    "kernelspec": {
      "name": "python3",
      "display_name": "Python 3"
    },
    "accelerator": "GPU"
  },
  "cells": [
    {
      "cell_type": "markdown",
      "metadata": {
        "id": "view-in-github",
        "colab_type": "text"
      },
      "source": [
        "<a href=\"https://colab.research.google.com/github/bacdam91/mxnet-tutorial/blob/master/Manipulate_data_with_ndarray.ipynb\" target=\"_parent\"><img src=\"https://colab.research.google.com/assets/colab-badge.svg\" alt=\"Open In Colab\"/></a>"
      ]
    },
    {
      "cell_type": "code",
      "metadata": {
        "id": "1z62HUBn86K8",
        "colab_type": "code",
        "colab": {}
      },
      "source": [
        "# !pip install mxnet"
      ],
      "execution_count": 0,
      "outputs": []
    },
    {
      "cell_type": "markdown",
      "metadata": {
        "id": "af8Z0foV9w8x",
        "colab_type": "text"
      },
      "source": [
        "### About NDArray\n",
        "\n",
        "```NDArray``` is MXNet's primary tool for storing and transforming data. By design ```NDArray``` is similar to ```NumPy```'s multi-dimensional array."
      ]
    },
    {
      "cell_type": "markdown",
      "metadata": {
        "id": "Ent9jSM_-B1i",
        "colab_type": "text"
      },
      "source": [
        "### Importing ```NDArray``` from ```MXNet```\n",
        "\n",
        "In order to use ```NDArray```, we will have to import it from ```mxnet``` package."
      ]
    },
    {
      "cell_type": "code",
      "metadata": {
        "id": "UeycC70i9j98",
        "colab_type": "code",
        "colab": {}
      },
      "source": [
        "from mxnet import nd"
      ],
      "execution_count": 0,
      "outputs": []
    },
    {
      "cell_type": "markdown",
      "metadata": {
        "id": "L6Mq8OTr-gEI",
        "colab_type": "text"
      },
      "source": [
        "### Creating arrays/matrices from arrays and tuples\n",
        "An array can be created from tuples/arrays of tuples or arrays or combination of both. \n",
        "\n",
        "The elements can be of ```int``` or ```float``` type, or is parse-able into those two types, i.e., ```'1'``` but not ```'a'```."
      ]
    },
    {
      "cell_type": "code",
      "metadata": {
        "id": "bIPAz1IQ9_lI",
        "colab_type": "code",
        "outputId": "46f78dfd-285b-4a5b-b6ba-b634f943924f",
        "colab": {
          "base_uri": "https://localhost:8080/",
          "height": 221
        }
      },
      "source": [
        "# Tuple of tuples\n",
        "m = ((1, 2, 3), (4, 5, 6))\n",
        "M = nd.array(m)\n",
        "display(M)\n",
        "\n",
        "# Array of arrays\n",
        "n = [[1.2, 2.3], [3.4, 4.5]]\n",
        "N = nd.array(n)\n",
        "display(N)\n",
        "\n",
        "# Array of tuple and array\n",
        "o = [('1', '2.7'), [3, 4]]\n",
        "O = nd.array(o)\n",
        "display(O)"
      ],
      "execution_count": 0,
      "outputs": [
        {
          "output_type": "display_data",
          "data": {
            "text/plain": [
              "\n",
              "[[1. 2. 3.]\n",
              " [4. 5. 6.]]\n",
              "<NDArray 2x3 @cpu(0)>"
            ]
          },
          "metadata": {
            "tags": []
          }
        },
        {
          "output_type": "display_data",
          "data": {
            "text/plain": [
              "\n",
              "[[1.2 2.3]\n",
              " [3.4 4.5]]\n",
              "<NDArray 2x2 @cpu(0)>"
            ]
          },
          "metadata": {
            "tags": []
          }
        },
        {
          "output_type": "display_data",
          "data": {
            "text/plain": [
              "\n",
              "[[1.  2.7]\n",
              " [3.  4. ]]\n",
              "<NDArray 2x2 @cpu(0)>"
            ]
          },
          "metadata": {
            "tags": []
          }
        }
      ]
    },
    {
      "cell_type": "markdown",
      "metadata": {
        "id": "sbxBUeycAtg0",
        "colab_type": "text"
      },
      "source": [
        "### Creating arrays/matrices filled with one specific value\n",
        "\n",
        "```NDArray``` provides us with convenient methods to generate a matrix of certain ```shape``` and fill it with 0s, 1s or any value.\n",
        "\n",
        "The ```x_shape``` can be either a tuple or an array with length of 2, i.e., [rows, cols]."
      ]
    },
    {
      "cell_type": "code",
      "metadata": {
        "id": "oOP0nz3L_oXu",
        "colab_type": "code",
        "outputId": "90198971-eef4-491e-ee4f-a700256a5090",
        "colab": {
          "base_uri": "https://localhost:8080/",
          "height": 272
        }
      },
      "source": [
        "shape = [3, 5]\n",
        "\n",
        "X0 = nd.zeros(shape)\n",
        "X1 = nd.ones(shape)\n",
        "Xn = nd.full(shape, 3.141)\n",
        "\n",
        "display(X0)\n",
        "display(X1)\n",
        "display(Xn)"
      ],
      "execution_count": 0,
      "outputs": [
        {
          "output_type": "display_data",
          "data": {
            "text/plain": [
              "\n",
              "[[0. 0. 0. 0. 0.]\n",
              " [0. 0. 0. 0. 0.]\n",
              " [0. 0. 0. 0. 0.]]\n",
              "<NDArray 3x5 @cpu(0)>"
            ]
          },
          "metadata": {
            "tags": []
          }
        },
        {
          "output_type": "display_data",
          "data": {
            "text/plain": [
              "\n",
              "[[1. 1. 1. 1. 1.]\n",
              " [1. 1. 1. 1. 1.]\n",
              " [1. 1. 1. 1. 1.]]\n",
              "<NDArray 3x5 @cpu(0)>"
            ]
          },
          "metadata": {
            "tags": []
          }
        },
        {
          "output_type": "display_data",
          "data": {
            "text/plain": [
              "\n",
              "[[3.141 3.141 3.141 3.141 3.141]\n",
              " [3.141 3.141 3.141 3.141 3.141]\n",
              " [3.141 3.141 3.141 3.141 3.141]]\n",
              "<NDArray 3x5 @cpu(0)>"
            ]
          },
          "metadata": {
            "tags": []
          }
        }
      ]
    },
    {
      "cell_type": "markdown",
      "metadata": {
        "id": "8Cbwks4dCNFS",
        "colab_type": "text"
      },
      "source": [
        "### Creating arrays/matrices with random values over a range\n",
        "\n",
        "```NDArray``` also provides us with a convenient way to generate an array/matrix of any shape filled uniformly with values between a specified range.\n",
        "\n",
        "The example below shows the generation of a matrix with 4 rows and 2 columns and with random values between -2 and 2."
      ]
    },
    {
      "cell_type": "code",
      "metadata": {
        "id": "EWmwp8YTBeeJ",
        "colab_type": "code",
        "outputId": "22e4d520-8ef6-4ed8-8b45-2f56a1bd39b1",
        "colab": {
          "base_uri": "https://localhost:8080/",
          "height": 119
        }
      },
      "source": [
        "shape = (4, 2)\n",
        "lower_bound = -2\n",
        "upper_bound = 2\n",
        "\n",
        "Y = nd.random.uniform(lower_bound, upper_bound, shape)\n",
        "display(Y)"
      ],
      "execution_count": 0,
      "outputs": [
        {
          "output_type": "display_data",
          "data": {
            "text/plain": [
              "\n",
              "[[ 0.27217817 -0.42886078]\n",
              " [ 1.7023866   1.344315  ]\n",
              " [-1.7158558  -0.6504153 ]\n",
              " [-1.6514828   0.5926876 ]]\n",
              "<NDArray 4x2 @cpu(0)>"
            ]
          },
          "metadata": {
            "tags": []
          }
        }
      ]
    },
    {
      "cell_type": "markdown",
      "metadata": {
        "id": "leQ4HYLtDmQO",
        "colab_type": "text"
      },
      "source": [
        "### Inspecting arrays/matrices\n",
        "\n",
        "```NDArray``` arrays/matrices have aattributes that can help us to inspect them. These include:\n",
        "\n",
        "1. ```.shape``` tells us the number of rows and columns.\n",
        "2. ```.size``` tells us the number of 'cells', i.e., the product of rows and columns.\n",
        "3. ```.dtype``` tells us the data type of the values stored"
      ]
    },
    {
      "cell_type": "code",
      "metadata": {
        "id": "0OlioBgFCvwf",
        "colab_type": "code",
        "outputId": "8b293f77-8717-4dda-cdd3-1ae3ed583088",
        "colab": {
          "base_uri": "https://localhost:8080/",
          "height": 68
        }
      },
      "source": [
        "print(f\"Shape of y (rows, cols): {Y.shape}\")\n",
        "print(f\"Size of y (rows x cols): {Y.size}\")\n",
        "print(f\"Data type of y's elements: {Y.dtype}\")"
      ],
      "execution_count": 0,
      "outputs": [
        {
          "output_type": "stream",
          "text": [
            "Shape of y (rows, cols): (4, 2)\n",
            "Size of y (rows x cols): 8\n",
            "Data type of y's elements: <class 'numpy.float32'>\n"
          ],
          "name": "stdout"
        }
      ]
    },
    {
      "cell_type": "markdown",
      "metadata": {
        "id": "3VQcVHRrE_u7",
        "colab_type": "text"
      },
      "source": [
        "### Matrix Operations\n",
        "\n",
        "```NDArray``` supports many standard mathematical operations, such as:"
      ]
    },
    {
      "cell_type": "markdown",
      "metadata": {
        "id": "xNeWXJVCFNlG",
        "colab_type": "text"
      },
      "source": [
        "#### Element-wise multiplication\n",
        "\n",
        "Also known as Hadamard product, Schur product and entrywise product."
      ]
    },
    {
      "cell_type": "code",
      "metadata": {
        "id": "h-iezM4xDhgZ",
        "colab_type": "code",
        "outputId": "4479ded6-d3e6-4db3-b467-f36fe56f99e3",
        "colab": {
          "base_uri": "https://localhost:8080/",
          "height": 102
        }
      },
      "source": [
        "X = nd.full([3, 4], 2)\n",
        "Y = nd.full([3, 4], 1.5)\n",
        "Z = X * Y\n",
        "display(Z)"
      ],
      "execution_count": 0,
      "outputs": [
        {
          "output_type": "display_data",
          "data": {
            "text/plain": [
              "\n",
              "[[3. 3. 3. 3.]\n",
              " [3. 3. 3. 3.]\n",
              " [3. 3. 3. 3.]]\n",
              "<NDArray 3x4 @cpu(0)>"
            ]
          },
          "metadata": {
            "tags": []
          }
        }
      ]
    },
    {
      "cell_type": "markdown",
      "metadata": {
        "id": "YC9Kqu3CF7Ov",
        "colab_type": "text"
      },
      "source": [
        "#### Exponentiation\n",
        "\n",
        "Each element within is used as the power to $e$.\n",
        "\n",
        "For example, consider matrix $A$ which has 2 rows and 2 columns. The first row has the values 1 and 2, and the second row has the values 3 and 4. \n",
        "\n",
        "When we use the method ```.exp()```, ```NDArray``` takes each element as the power of $e$.\n",
        "\n",
        "1. $e^{1} = 2.718$\n",
        "2. $e^{2} = 7.389$\n",
        "3. $e^{3} = 20.08$\n",
        "4. $e^{4} = 54.59$"
      ]
    },
    {
      "cell_type": "code",
      "metadata": {
        "id": "unt9MX9IEg6o",
        "colab_type": "code",
        "outputId": "6cefff6a-02c0-42fc-9ffe-7d3fdebe9218",
        "colab": {
          "base_uri": "https://localhost:8080/",
          "height": 85
        }
      },
      "source": [
        "A = nd.array([[1, 2], [3, 4]])\n",
        "A.exp()"
      ],
      "execution_count": 0,
      "outputs": [
        {
          "output_type": "execute_result",
          "data": {
            "text/plain": [
              "\n",
              "[[ 2.7182817  7.389056 ]\n",
              " [20.085537  54.59815  ]]\n",
              "<NDArray 2x2 @cpu(0)>"
            ]
          },
          "metadata": {
            "tags": []
          },
          "execution_count": 48
        }
      ]
    },
    {
      "cell_type": "markdown",
      "metadata": {
        "id": "-mfcSYCsHXFY",
        "colab_type": "text"
      },
      "source": [
        "#### Cross product\n",
        "\n",
        "Despite the naming of the function, ```nd.dot()``` , this function calculates the cross product of two matrices.\n",
        "\n",
        "As such the number of columns of the first matrix must equals the number of rows of the second matrix, otherwise an error will be thrown."
      ]
    },
    {
      "cell_type": "code",
      "metadata": {
        "id": "zRqAEGBOE3CC",
        "colab_type": "code",
        "outputId": "b6787bb6-46f7-498a-fd38-c471e7c7a2e3",
        "colab": {
          "base_uri": "https://localhost:8080/",
          "height": 85
        }
      },
      "source": [
        "X = nd.array([[1, 2, 3], [1, 2, 3]])\n",
        "Y = nd.array([[3, 5], [4, 4], [5, 3]])\n",
        "nd.dot(X, Y)"
      ],
      "execution_count": 0,
      "outputs": [
        {
          "output_type": "execute_result",
          "data": {
            "text/plain": [
              "\n",
              "[[26. 22.]\n",
              " [26. 22.]]\n",
              "<NDArray 2x2 @cpu(0)>"
            ]
          },
          "metadata": {
            "tags": []
          },
          "execution_count": 53
        }
      ]
    },
    {
      "cell_type": "markdown",
      "metadata": {
        "id": "yR-CUrrGJbuT",
        "colab_type": "text"
      },
      "source": [
        "### Matrix's transpose\n",
        "\n",
        "We can also use the matrix's transpose to compute the cross product.\n",
        "\n",
        "The example below is very similar to the one above, except that the ```Y``` matrix has 2 rows and 3 columns, instead of 3 rows and 2 columns as above.\n",
        "\n",
        "If we just compute the cross product of ```X``` and ```Y``` we would not be able to, as per explanation above. As such we need to get the transpose of ```Y``` with ```Y.T``` so that we get a matrix of 3 rows and 2 columns."
      ]
    },
    {
      "cell_type": "code",
      "metadata": {
        "id": "95RZGVB4HoUG",
        "colab_type": "code",
        "outputId": "2fee46a3-a76a-40b4-f940-f5fdbe76a4ca",
        "colab": {
          "base_uri": "https://localhost:8080/",
          "height": 238
        }
      },
      "source": [
        "X = nd.array([[1, 2, 3], [1, 2, 3]])\n",
        "Y = nd.array([[3, 4, 5], [5, 4, 3]])\n",
        "\n",
        "display(Y)\n",
        "display(Y.T)\n",
        "\n",
        "nd.dot(X, Y.T)"
      ],
      "execution_count": 0,
      "outputs": [
        {
          "output_type": "display_data",
          "data": {
            "text/plain": [
              "\n",
              "[[3. 4. 5.]\n",
              " [5. 4. 3.]]\n",
              "<NDArray 2x3 @cpu(0)>"
            ]
          },
          "metadata": {
            "tags": []
          }
        },
        {
          "output_type": "display_data",
          "data": {
            "text/plain": [
              "\n",
              "[[3. 5.]\n",
              " [4. 4.]\n",
              " [5. 3.]]\n",
              "<NDArray 3x2 @cpu(0)>"
            ]
          },
          "metadata": {
            "tags": []
          }
        },
        {
          "output_type": "execute_result",
          "data": {
            "text/plain": [
              "\n",
              "[[26. 22.]\n",
              " [26. 22.]]\n",
              "<NDArray 2x2 @cpu(0)>"
            ]
          },
          "metadata": {
            "tags": []
          },
          "execution_count": 55
        }
      ]
    },
    {
      "cell_type": "markdown",
      "metadata": {
        "id": "dH6fWFhhMf5z",
        "colab_type": "text"
      },
      "source": [
        "### Indexing\n",
        "\n",
        "```NDArray``` provides a lot of flexibility when it come to accessing our data. The sliced portion is returned as an array, even if it's just a single value we are after.\n",
        "\n",
        "Below we are trying to get the element in the 2nd row and 3rd column."
      ]
    },
    {
      "cell_type": "code",
      "metadata": {
        "id": "AMwZicWIJwTP",
        "colab_type": "code",
        "outputId": "c88d3baf-66d4-44c6-b2e3-09127733757d",
        "colab": {
          "base_uri": "https://localhost:8080/",
          "height": 136
        }
      },
      "source": [
        "Y = nd.array([[1, 2, 3], [4, 5, 6]])\n",
        "display(Y)\n",
        "\n",
        "# Get the value in 2nd row and 3rd column (remember Python's index starts with 0)\n",
        "Y[1,2]"
      ],
      "execution_count": 0,
      "outputs": [
        {
          "output_type": "display_data",
          "data": {
            "text/plain": [
              "\n",
              "[[1. 2. 3.]\n",
              " [4. 5. 6.]]\n",
              "<NDArray 2x3 @cpu(0)>"
            ]
          },
          "metadata": {
            "tags": []
          }
        },
        {
          "output_type": "execute_result",
          "data": {
            "text/plain": [
              "\n",
              "[6.]\n",
              "<NDArray 1 @cpu(0)>"
            ]
          },
          "metadata": {
            "tags": []
          },
          "execution_count": 72
        }
      ]
    },
    {
      "cell_type": "markdown",
      "metadata": {
        "id": "EaduKcfrNBBL",
        "colab_type": "text"
      },
      "source": [
        "Example below shows we can read all rows from the 2nd column to and including the 3rd column."
      ]
    },
    {
      "cell_type": "code",
      "metadata": {
        "id": "TTifWsdYLE8i",
        "colab_type": "code",
        "outputId": "6899c807-0866-4f7f-a263-74a0ff06ec96",
        "colab": {
          "base_uri": "https://localhost:8080/",
          "height": 153
        }
      },
      "source": [
        "display(Y)\n",
        "Y[:,1:3]"
      ],
      "execution_count": 0,
      "outputs": [
        {
          "output_type": "display_data",
          "data": {
            "text/plain": [
              "\n",
              "[[1. 2. 3.]\n",
              " [4. 5. 6.]]\n",
              "<NDArray 2x3 @cpu(0)>"
            ]
          },
          "metadata": {
            "tags": []
          }
        },
        {
          "output_type": "execute_result",
          "data": {
            "text/plain": [
              "\n",
              "[[2. 3.]\n",
              " [5. 6.]]\n",
              "<NDArray 2x2 @cpu(0)>"
            ]
          },
          "metadata": {
            "tags": []
          },
          "execution_count": 73
        }
      ]
    },
    {
      "cell_type": "markdown",
      "metadata": {
        "id": "RSzzX2gHNS5F",
        "colab_type": "text"
      },
      "source": [
        "We can write to the selected region with ease.\n",
        "\n",
        "The example below shows the same region will now have the value 3.141."
      ]
    },
    {
      "cell_type": "code",
      "metadata": {
        "id": "dZqW73SiLkDB",
        "colab_type": "code",
        "outputId": "2aa49516-09b0-4947-c1ba-7a707a88f8c3",
        "colab": {
          "base_uri": "https://localhost:8080/",
          "height": 153
        }
      },
      "source": [
        "display(Y)\n",
        "Y[:,1:3] = 3.141\n",
        "display(Y)"
      ],
      "execution_count": 0,
      "outputs": [
        {
          "output_type": "display_data",
          "data": {
            "text/plain": [
              "\n",
              "[[1. 2. 3.]\n",
              " [4. 5. 6.]]\n",
              "<NDArray 2x3 @cpu(0)>"
            ]
          },
          "metadata": {
            "tags": []
          }
        },
        {
          "output_type": "display_data",
          "data": {
            "text/plain": [
              "\n",
              "[[1.    3.141 3.141]\n",
              " [4.    3.141 3.141]]\n",
              "<NDArray 2x3 @cpu(0)>"
            ]
          },
          "metadata": {
            "tags": []
          }
        }
      ]
    },
    {
      "cell_type": "markdown",
      "metadata": {
        "id": "8HgpCaXSNifb",
        "colab_type": "text"
      },
      "source": [
        "We can even slice and write multi-dimensionally.\n",
        "\n",
        "The example below shows the elements in the 2nd row and 1st and 2nd column are overriden with a new value."
      ]
    },
    {
      "cell_type": "code",
      "metadata": {
        "id": "IvF4ADyHL52j",
        "colab_type": "code",
        "outputId": "9ced43f8-4ed0-427e-ffe0-e98d172f11fd",
        "colab": {
          "base_uri": "https://localhost:8080/",
          "height": 153
        }
      },
      "source": [
        "display(Y)\n",
        "Y[1:2,0:2] = 1.618\n",
        "display(Y)"
      ],
      "execution_count": 0,
      "outputs": [
        {
          "output_type": "display_data",
          "data": {
            "text/plain": [
              "\n",
              "[[1.    3.141 3.141]\n",
              " [1.618 1.618 3.141]]\n",
              "<NDArray 2x3 @cpu(0)>"
            ]
          },
          "metadata": {
            "tags": []
          }
        },
        {
          "output_type": "display_data",
          "data": {
            "text/plain": [
              "\n",
              "[[1.    3.141 3.141]\n",
              " [1.618 1.618 3.141]]\n",
              "<NDArray 2x3 @cpu(0)>"
            ]
          },
          "metadata": {
            "tags": []
          }
        }
      ]
    },
    {
      "cell_type": "markdown",
      "metadata": {
        "id": "ZzOzCWiSOVDW",
        "colab_type": "text"
      },
      "source": [
        "### Converting between ```MXNet NDArray``` and ```NumPy```\n",
        "\n",
        "Converting between ```MXNet NDArray``` and ```NumPy``` arrays is a breeze. The converted arrays do not share memory."
      ]
    },
    {
      "cell_type": "code",
      "metadata": {
        "id": "YvghxR3FMYez",
        "colab_type": "code",
        "outputId": "670511c7-d17b-4b58-d9c1-a1757e66881a",
        "colab": {
          "base_uri": "https://localhost:8080/",
          "height": 51
        }
      },
      "source": [
        "X = nd.array([[9, 8, 7], [6, 5, 4]])\n",
        "A = X.asnumpy()\n",
        "\n",
        "(type(A), A)"
      ],
      "execution_count": 0,
      "outputs": [
        {
          "output_type": "execute_result",
          "data": {
            "text/plain": [
              "(numpy.ndarray, array([[9., 8., 7.],\n",
              "        [6., 5., 4.]], dtype=float32))"
            ]
          },
          "metadata": {
            "tags": []
          },
          "execution_count": 81
        }
      ]
    },
    {
      "cell_type": "code",
      "metadata": {
        "id": "5j5LOzo0OMV7",
        "colab_type": "code",
        "outputId": "4d5d0aa2-1864-4548-db6f-9ba11ff4ca3e",
        "colab": {
          "base_uri": "https://localhost:8080/",
          "height": 85
        }
      },
      "source": [
        "nd.array(A)"
      ],
      "execution_count": 0,
      "outputs": [
        {
          "output_type": "execute_result",
          "data": {
            "text/plain": [
              "\n",
              "[[9. 8. 7.]\n",
              " [6. 5. 4.]]\n",
              "<NDArray 2x3 @cpu(0)>"
            ]
          },
          "metadata": {
            "tags": []
          },
          "execution_count": 82
        }
      ]
    },
    {
      "cell_type": "code",
      "metadata": {
        "id": "0R7qMn4MOTI5",
        "colab_type": "code",
        "colab": {}
      },
      "source": [
        ""
      ],
      "execution_count": 0,
      "outputs": []
    }
  ]
}