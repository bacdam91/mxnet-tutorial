{
  "nbformat": 4,
  "nbformat_minor": 0,
  "metadata": {
    "colab": {
      "name": "Training the neural network",
      "provenance": [],
      "collapsed_sections": [],
      "include_colab_link": true
    },
    "kernelspec": {
      "name": "python3",
      "display_name": "Python 3"
    },
    "accelerator": "GPU"
  },
  "cells": [
    {
      "cell_type": "markdown",
      "metadata": {
        "id": "view-in-github",
        "colab_type": "text"
      },
      "source": [
        "<a href=\"https://colab.research.google.com/github/bacdam91/mxnet-tutorial/blob/master/Training_the_neural_network.ipynb\" target=\"_parent\"><img src=\"https://colab.research.google.com/assets/colab-badge.svg\" alt=\"Open In Colab\"/></a>"
      ]
    },
    {
      "cell_type": "code",
      "metadata": {
        "id": "t9ACH7gVZTcu",
        "colab_type": "code",
        "outputId": "5ea40032-943f-40fc-ed77-471679e4088b",
        "colab": {
          "base_uri": "https://localhost:8080/",
          "height": 153
        }
      },
      "source": [
        "!pip install mxnet"
      ],
      "execution_count": 1,
      "outputs": [
        {
          "output_type": "stream",
          "text": [
            "Requirement already satisfied: mxnet in /usr/local/lib/python3.6/dist-packages (1.5.1.post0)\n",
            "Requirement already satisfied: graphviz<0.9.0,>=0.8.1 in /usr/local/lib/python3.6/dist-packages (from mxnet) (0.8.4)\n",
            "Requirement already satisfied: numpy<2.0.0,>1.16.0 in /usr/local/lib/python3.6/dist-packages (from mxnet) (1.17.4)\n",
            "Requirement already satisfied: requests<3,>=2.20.0 in /usr/local/lib/python3.6/dist-packages (from mxnet) (2.21.0)\n",
            "Requirement already satisfied: idna<2.9,>=2.5 in /usr/local/lib/python3.6/dist-packages (from requests<3,>=2.20.0->mxnet) (2.8)\n",
            "Requirement already satisfied: chardet<3.1.0,>=3.0.2 in /usr/local/lib/python3.6/dist-packages (from requests<3,>=2.20.0->mxnet) (3.0.4)\n",
            "Requirement already satisfied: certifi>=2017.4.17 in /usr/local/lib/python3.6/dist-packages (from requests<3,>=2.20.0->mxnet) (2019.11.28)\n",
            "Requirement already satisfied: urllib3<1.25,>=1.21.1 in /usr/local/lib/python3.6/dist-packages (from requests<3,>=2.20.0->mxnet) (1.24.3)\n"
          ],
          "name": "stdout"
        }
      ]
    },
    {
      "cell_type": "markdown",
      "metadata": {
        "id": "Z91uKlA14EZY",
        "colab_type": "text"
      },
      "source": [
        "# Training the neural network\n",
        "\n",
        "In this tutorial we will train the LeNet neural network with the FashionMNIST dataset.\n",
        "\n",
        "### Fashion MNIST dataset\n",
        "\n",
        "The Fashion MNIST dataset is a collection of $28 \\times 28$ pixels greyscale images of clothing items. Each item is associated with a scalar label, a number, to identify the particular clothing item. Between this and the handwritten digits MNIST dataset, they are considered the \"Hello World\" tutorials of the Machine Learning world.\n",
        "\n",
        "### Importing libraries\n",
        "\n",
        "We will be importing some libraries for this tutorial. Some of the new ones include:\n",
        "1. ```mxnet.init```: which will provide us with more weight initialisation methods\n",
        "2. ```mxnet.gluon.data.vision.datasets```: which will help us load the Fashion MNIST dataset\n",
        "3. ```mxnet.gluon.data.vision.transforms```: which will help us to transform the computer vision datasets\n",
        "4. ```time```: which will help us with benchmarking\n",
        "5. ```matplotlib.pyplot```: which will help us to output the dataset as drawings"
      ]
    },
    {
      "cell_type": "code",
      "metadata": {
        "id": "B9M4yhhzX3WK",
        "colab_type": "code",
        "colab": {}
      },
      "source": [
        "from mxnet import nd, gluon, init, autograd\n",
        "from mxnet.gluon import nn\n",
        "from mxnet.gluon.data.vision import datasets, transforms\n",
        "import matplotlib.pyplot as plt\n",
        "import time"
      ],
      "execution_count": 0,
      "outputs": []
    },
    {
      "cell_type": "markdown",
      "metadata": {
        "id": "m1JVveew7xkj",
        "colab_type": "text"
      },
      "source": [
        "### Downloading the dataset\n",
        "\n",
        "Almost all Machine Learning libraries/frameworks provide a convenient method to download standard datasets, such the as Fashion MNIST. As such we will use MXNet's convenient method to download the dataset and inspect its first item.\n",
        "\n",
        "Notice that the parameter ```train``` is set to ```True```. We are saying we would like to load the training set only. If set to ```False``` we will load the testing set. We will do that later.\n",
        "\n",
        "__Note:__ As the Fashion MNIST is a standard dataset used for benchmarking, the dataset is of fixed sized and split for us. The reason for this is to prevent a more favourable randomisation and splitting. There are 60,000 examples in the training set and 10,000 examples in the test set."
      ]
    },
    {
      "cell_type": "code",
      "metadata": {
        "id": "UulcEKdNZeob",
        "colab_type": "code",
        "outputId": "25749497-d061-4b62-b175-7dc9a51b680d",
        "colab": {
          "base_uri": "https://localhost:8080/",
          "height": 34
        }
      },
      "source": [
        "mnist_train = datasets.FashionMNIST(train=True)\n",
        "X, y = mnist_train[0]\n",
        "(\"X shape: \", X.shape, \"X dtype: \", X.dtype, \"y: \", y)"
      ],
      "execution_count": 3,
      "outputs": [
        {
          "output_type": "execute_result",
          "data": {
            "text/plain": [
              "('X shape: ', (28, 28, 1), 'X dtype: ', numpy.uint8, 'y: ', 2)"
            ]
          },
          "metadata": {
            "tags": []
          },
          "execution_count": 3
        }
      ]
    },
    {
      "cell_type": "markdown",
      "metadata": {
        "id": "tCnc8wZ19B9r",
        "colab_type": "text"
      },
      "source": [
        "As we can see from the output, the ```X``` is a numpy array that is $28 \\times 28 \\times 1$. The dimensions stand for $height \\times width \\times channel$. The ```y``` is the label which tells us what the item is. In this case the first item is a pullover. All the items include:\n",
        "\n",
        "0. t-shirt\n",
        "1. trouser\n",
        "2. pullover\n",
        "3. dress\n",
        "4. coat\n",
        "5. sandal\n",
        "6. shirt\n",
        "7. sneaker\n",
        "8. bag\n",
        "9. ankle boot\n",
        "\n",
        "As the dataset stores these labels as integers, we will need an array of these text labels so that we can read the the network's prediction and easy evaluate the accuracy of the neural network."
      ]
    },
    {
      "cell_type": "code",
      "metadata": {
        "id": "Ml7T0gQq8_1a",
        "colab_type": "code",
        "colab": {}
      },
      "source": [
        "text_labels = ['t-shirt', 'trouser', 'pullover', 'dress', 'coat',\n",
        "               'sandal', 'shirt', 'sneaker', 'bag', 'ankle boot']"
      ],
      "execution_count": 0,
      "outputs": []
    },
    {
      "cell_type": "markdown",
      "metadata": {
        "id": "npzgnnKt8cBf",
        "colab_type": "text"
      },
      "source": [
        "### Other datasets\n",
        "\n",
        "Beside the handwritten digits and the fashion MNIST datasets, there are a few other datasets that are considered as standard datasets for newcomers to learn and researchers to run their experiments, another popular dataset is the Zachary's Karate Club dataset which is used mainly in Graph Neural Networks."
      ]
    },
    {
      "cell_type": "markdown",
      "metadata": {
        "id": "i862Wg5lm05P",
        "colab_type": "text"
      },
      "source": [
        "### Exploring the dataset with ```matplotlib```\n",
        "\n",
        "Let's explore the dataset some more and see its visual representations with ```matplotlib```.  We won't go into too much of the code of ```matplotlib``` in this tutorial. However, there are some videos on the basic usage of ```matplotlib``` on this channel."
      ]
    },
    {
      "cell_type": "code",
      "metadata": {
        "id": "S--2QXNTZ-_U",
        "colab_type": "code",
        "outputId": "2f980ad8-7a24-4cf9-c132-dfe84f01f083",
        "colab": {
          "base_uri": "https://localhost:8080/",
          "height": 135
        }
      },
      "source": [
        "X, y = mnist_train[0:10]\n",
        "# plot images\n",
        "fig, ax = plt.subplots(1, X.shape[0], figsize=(15, 15))\n",
        "for f, xi, yi in zip(ax, X, y):\n",
        "    # 3D->2D by removing the last channel dim\n",
        "    f.imshow(xi.reshape((28,28)).asnumpy())\n",
        "    f.set_title(text_labels[int(yi)])\n",
        "plt.show()"
      ],
      "execution_count": 5,
      "outputs": [
        {
          "output_type": "display_data",
          "data": {
            "image/png": "[encoded data removed]",
            "text/plain": [
              "<Figure size 1080x1080 with 10 Axes>"
            ]
          },
          "metadata": {
            "tags": []
          }
        }
      ]
    },
    {
      "cell_type": "markdown",
      "metadata": {
        "id": "jhA0pC_2YIWm",
        "colab_type": "text"
      },
      "source": [
        "### Transforming the data\n",
        "\n",
        "In order to feed the data into a Gluon model, we need to transform the images into the (channel, height, width) format with floating point data type. We can do this with the ```transforms.ToTensor()``` method. In addition we will normalise all pixel values with ```transforms.Normalize()``` method. We can chain these two transforms together with ```transforms.Compose()``` which sequentially composes multiple transforms.\n",
        "\n",
        "If you would like to understand these transforms in more details, you can check my channel for more tutorials."
      ]
    },
    {
      "cell_type": "code",
      "metadata": {
        "id": "4VG0TygKaeSS",
        "colab_type": "code",
        "colab": {}
      },
      "source": [
        "transformer = transforms.Compose([\n",
        "    transforms.ToTensor(),\n",
        "    transforms.Normalize(0.13, 0.31)])\n",
        "mnist_train = mnist_train.transform_first(transformer)"
      ],
      "execution_count": 0,
      "outputs": []
    },
    {
      "cell_type": "markdown",
      "metadata": {
        "id": "JYipDchpdzri",
        "colab_type": "text"
      },
      "source": [
        "### Creating the training data\n",
        "\n",
        "In order to use the data for training, we need to get a (randomised) batch of examples. We can achieve this with the ```gluon.data.Dataloader()``` method. We will define an arbitary batch size of 256 examples. To allow randomisation, we will set shuffle to ```True``` and number of workers to 4, which will allow us to process data in parallel. This is often necessary especially for complex data transforms. "
      ]
    },
    {
      "cell_type": "code",
      "metadata": {
        "id": "NzLJMXqwal-6",
        "colab_type": "code",
        "colab": {}
      },
      "source": [
        "batch_size = 256\n",
        "train_data = gluon.data.DataLoader(\n",
        "    mnist_train, batch_size=batch_size, shuffle=True, num_workers=4)"
      ],
      "execution_count": 0,
      "outputs": []
    },
    {
      "cell_type": "markdown",
      "metadata": {
        "id": "2ki5JWKC__Ub",
        "colab_type": "text"
      },
      "source": [
        "The return object from ```gluon.data.DataLoader()``` is an iterable object but __does__ not support indexing so to examine a batch, we will use the ```for``` loop follows by a ```break``` statement immediately.\n",
        "\n",
        "We will also print out the number of batches generated with the method ```len()```."
      ]
    },
    {
      "cell_type": "code",
      "metadata": {
        "id": "Wi5MJgMzaomq",
        "colab_type": "code",
        "outputId": "6b07e7f3-039f-45af-8eee-92f3611f615c",
        "colab": {
          "base_uri": "https://localhost:8080/",
          "height": 51
        }
      },
      "source": [
        "for data, label in train_data:\n",
        "    print(data.shape, label.shape)\n",
        "    break\n",
        "\n",
        "print(len(train_data))"
      ],
      "execution_count": 8,
      "outputs": [
        {
          "output_type": "stream",
          "text": [
            "(256, 1, 28, 28) (256,)\n",
            "235\n"
          ],
          "name": "stdout"
        }
      ]
    },
    {
      "cell_type": "markdown",
      "metadata": {
        "id": "3vwIllfAC_kE",
        "colab_type": "text"
      },
      "source": [
        "Notice that there are 235 batches and we defined 256 examples in each batch. If we multiple the 2 figures we get, $235 \\times 256 = 60,160$. As mentioned before, there are exactly 60,000 examples in the training set. If we remove the ```break``` statement and let the ```for``` loop print out the shape of all the mini-batches, we can see that the last batch has only 96 examples, which means $256 \\times 234 + 96 = 60,000$."
      ]
    },
    {
      "cell_type": "markdown",
      "metadata": {
        "id": "d3xRPWlFEnQc",
        "colab_type": "text"
      },
      "source": [
        "### Preparing the testing data\n",
        "\n",
        "Let's do the same method to get the test set ready for our neural network. \n",
        "\n",
        "Again, we can see that there are 40 batches: 256 examples in the first 39 batches and 16 examples in the last batch, $256 \\times 39 + 16 = 10,000$."
      ]
    },
    {
      "cell_type": "code",
      "metadata": {
        "id": "f6a2AkJWapzK",
        "colab_type": "code",
        "outputId": "55e9dd07-b2c9-4493-ddf9-d99967212d26",
        "colab": {
          "base_uri": "https://localhost:8080/",
          "height": 51
        }
      },
      "source": [
        "mnist_valid = gluon.data.vision.FashionMNIST(train=False)\n",
        "valid_data = gluon.data.DataLoader(\n",
        "    mnist_valid.transform_first(transformer),\n",
        "    batch_size=batch_size, num_workers=4)\n",
        "\n",
        "for data, label in valid_data:\n",
        "    print(data.shape, label.shape)\n",
        "    break\n",
        "print(len(valid_data))"
      ],
      "execution_count": 9,
      "outputs": [
        {
          "output_type": "stream",
          "text": [
            "(256, 1, 28, 28) (256,)\n",
            "40\n"
          ],
          "name": "stdout"
        }
      ]
    },
    {
      "cell_type": "markdown",
      "metadata": {
        "id": "jfsZQIhqFcOS",
        "colab_type": "text"
      },
      "source": [
        "# Define the model\n",
        "\n",
        "Let us reimplement the LeNet network introduced in the previous tutorial. The only difference here is that we will use the weight initialisation method ```Xavier``` instead, i.e., ```net.initialize(init=init.Xavier())```. This is a popular choice for deep convolutional neural networks."
      ]
    },
    {
      "cell_type": "code",
      "metadata": {
        "id": "NSg7OIvearOr",
        "colab_type": "code",
        "colab": {}
      },
      "source": [
        "net = nn.Sequential()\n",
        "net.add(nn.Conv2D(channels=6, kernel_size=5, activation='relu'),\n",
        "        nn.MaxPool2D(pool_size=2, strides=2),\n",
        "        nn.Conv2D(channels=16, kernel_size=3, activation='relu'),\n",
        "        nn.MaxPool2D(pool_size=2, strides=2),\n",
        "        nn.Flatten(),\n",
        "        nn.Dense(120, activation=\"relu\"),\n",
        "        nn.Dense(84, activation=\"relu\"),\n",
        "        nn.Dense(10))\n",
        "net.initialize(init=init.Xavier())"
      ],
      "execution_count": 0,
      "outputs": []
    },
    {
      "cell_type": "markdown",
      "metadata": {
        "id": "RU8-o1FdGH83",
        "colab_type": "text"
      },
      "source": [
        "### Inspecting parameters of the neural network\n",
        "\n",
        "Once we have defined out neural network, we can have a look at the parameters, i.e., weights and biases, created with the method ```.collect_params()```."
      ]
    },
    {
      "cell_type": "code",
      "metadata": {
        "id": "e3yXPDrtE4C3",
        "colab_type": "code",
        "outputId": "221dd17d-776e-4c4e-d7f9-ac4b0464a7af",
        "colab": {
          "base_uri": "https://localhost:8080/",
          "height": 221
        }
      },
      "source": [
        "net.collect_params()"
      ],
      "execution_count": 11,
      "outputs": [
        {
          "output_type": "execute_result",
          "data": {
            "text/plain": [
              "sequential0_ (\n",
              "  Parameter conv0_weight (shape=(6, 0, 5, 5), dtype=<class 'numpy.float32'>)\n",
              "  Parameter conv0_bias (shape=(6,), dtype=<class 'numpy.float32'>)\n",
              "  Parameter conv1_weight (shape=(16, 0, 3, 3), dtype=<class 'numpy.float32'>)\n",
              "  Parameter conv1_bias (shape=(16,), dtype=<class 'numpy.float32'>)\n",
              "  Parameter dense0_weight (shape=(120, 0), dtype=float32)\n",
              "  Parameter dense0_bias (shape=(120,), dtype=float32)\n",
              "  Parameter dense1_weight (shape=(84, 0), dtype=float32)\n",
              "  Parameter dense1_bias (shape=(84,), dtype=float32)\n",
              "  Parameter dense2_weight (shape=(10, 0), dtype=float32)\n",
              "  Parameter dense2_bias (shape=(10,), dtype=float32)\n",
              ")"
            ]
          },
          "metadata": {
            "tags": []
          },
          "execution_count": 11
        }
      ]
    },
    {
      "cell_type": "markdown",
      "metadata": {
        "id": "E4ZI0zZsGRVV",
        "colab_type": "text"
      },
      "source": [
        "### Accessing parameters of the neural network\n",
        "\n",
        "We can see that it outputs the layers defined in our neural network. These are indexed and each layer can be accessed like a dictionary by using the parameter's name as the key. However, initialisation does not actually happen until the first forward pass. As such if we try to access the ```shape``` properties of the layers not we will get a ```DeferredInitializationError``` thrown. We will have a look at those values a little later."
      ]
    },
    {
      "cell_type": "markdown",
      "metadata": {
        "id": "dNm00U6OG7U1",
        "colab_type": "text"
      },
      "source": [
        "### Creating a loss function\n",
        "\n",
        "Besides the neural network, we need to define the loss function and optimization method for training. We will use standard softmax cross entropy loss for classification problems. It first performs softmax on the output to obtain the predicted probability, and then compares the label with the cross entropy."
      ]
    },
    {
      "cell_type": "code",
      "metadata": {
        "id": "mti6-KW6ath0",
        "colab_type": "code",
        "colab": {}
      },
      "source": [
        "softmax_cross_entropy = gluon.loss.SoftmaxCrossEntropyLoss()"
      ],
      "execution_count": 0,
      "outputs": []
    },
    {
      "cell_type": "markdown",
      "metadata": {
        "id": "UIR2ECXEJ5ah",
        "colab_type": "text"
      },
      "source": [
        "### Creating a Trainer\n",
        "The optimization method we pick is the standard stochastic gradient descent (sgd) with constant learning rate of 0.1. We input these values into the ```gluon.Trainer()``` constructor, along with our list of parameters, i.e., ```net.collect_params()```. This will return a ```gluon.Trainer``` object which we will use for the training."
      ]
    },
    {
      "cell_type": "code",
      "metadata": {
        "id": "mBzL4gBhavmS",
        "colab_type": "code",
        "colab": {}
      },
      "source": [
        "trainer = gluon.Trainer(net.collect_params(), 'sgd', {'learning_rate': 0.1})"
      ],
      "execution_count": 0,
      "outputs": []
    },
    {
      "cell_type": "markdown",
      "metadata": {
        "id": "fosFDQyIJ86p",
        "colab_type": "text"
      },
      "source": [
        "The trainer is created with all parameters (both weights and gradients) in net. Later on, we only need to call the ```.step()``` method to update its weights."
      ]
    },
    {
      "cell_type": "markdown",
      "metadata": {
        "id": "FsrJTHslMOHB",
        "colab_type": "text"
      },
      "source": [
        "### Accuracy function\n",
        "\n",
        "We will create an auxillary function to calculate the model accuracy. This function compares the predicted proobability with the labels, calculates the mean and return the value as a scalar."
      ]
    },
    {
      "cell_type": "code",
      "metadata": {
        "id": "CY0H_tk7aw2S",
        "colab_type": "code",
        "colab": {}
      },
      "source": [
        "def acc(output, label):\n",
        "    # output: (batch, num_output) float32 ndarray\n",
        "    # label: (batch, ) int32 ndarray\n",
        "    score = (output.argmax(axis=1) == label.astype('float32')).mean().asscalar()\n",
        "    return score"
      ],
      "execution_count": 0,
      "outputs": []
    },
    {
      "cell_type": "markdown",
      "metadata": {
        "id": "x-AvOfDTVAxr",
        "colab_type": "text"
      },
      "source": [
        "### Traing the network\n",
        "\n",
        "Normally we would train the neural network for a few epochs and on the entire dataset. However, for demonstration purpose, we will train on 1 epoch and for 1 batch of 10 examples so that we can output the weights and gradients for explanation."
      ]
    },
    {
      "cell_type": "markdown",
      "metadata": {
        "id": "zJO5H1NkWwc8",
        "colab_type": "text"
      },
      "source": [
        "Let's reload the training and testing dataset with a batch size of 10. This is code is the same as what we have written previously."
      ]
    },
    {
      "cell_type": "code",
      "metadata": {
        "id": "l6IDhhLuVbwJ",
        "colab_type": "code",
        "colab": {}
      },
      "source": [
        "batch_size = 10\n",
        "\n",
        "mnist_train = datasets.FashionMNIST(train=True)\n",
        "train_data = gluon.data.DataLoader(\n",
        "    mnist_train.transform_first(transformer), batch_size=batch_size, shuffle=True, num_workers=4)\n",
        "\n",
        "mnist_valid = gluon.data.vision.FashionMNIST(train=False)\n",
        "valid_data = gluon.data.DataLoader(\n",
        "    mnist_valid.transform_first(transformer), batch_size=batch_size, num_workers=4)"
      ],
      "execution_count": 0,
      "outputs": []
    },
    {
      "cell_type": "markdown",
      "metadata": {
        "id": "YAPdkkw2W-Yc",
        "colab_type": "text"
      },
      "source": [
        "Let's run our neural network and output the results. We will go through and explain what is happening after."
      ]
    },
    {
      "cell_type": "code",
      "metadata": {
        "id": "VpNVNYsmayDy",
        "colab_type": "code",
        "colab": {
          "base_uri": "https://localhost:8080/",
          "height": 1000
        },
        "outputId": "006ab3a3-a264-4040-ccea-131afc3ce851"
      },
      "source": [
        "for epoch in range(1):\n",
        "    train_loss, train_acc, valid_acc = 0., 0., 0.\n",
        "    tic = time.time()\n",
        "    for data, label in train_data:\n",
        "        # forward + backward\n",
        "        with autograd.record():\n",
        "            output = net(data)\n",
        "            loss = softmax_cross_entropy(output, label)\n",
        "        print(\"Shape of first convolutional layer:\", net.collect_params()[\"conv0_weight\"].data().shape)\n",
        "        print(\"Weight values of first convolutional layer:\", net.collect_params()[\"conv0_weight\"].data())\n",
        "        print(\"Grad before backward()\", net.collect_params()[\"conv0_weight\"].grad())\n",
        "        loss.backward()\n",
        "        print(\"Grad after backward(): \", net.collect_params()[\"conv0_weight\"].grad())\n",
        "        # update parameters\n",
        "        trainer.step(batch_size)\n",
        "        print(\"Weight values of first convolutional layer:\", net.collect_params()[\"conv0_weight\"].data())\n",
        "        # calculate training metrics\n",
        "        train_loss += loss.mean().asscalar()\n",
        "        train_acc += acc(output, label)\n",
        "        break\n",
        "    # calculate validation accuracy\n",
        "    for data, label in valid_data:\n",
        "        valid_acc += acc(net(data), label)\n",
        "        break\n",
        "    # print(\"Epoch %d: loss %.3f, train acc %.3f, test acc %.3f, in %.1f sec\" % (\n",
        "    #         epoch, train_loss/len(train_data), train_acc/len(train_data),\n",
        "    #         valid_acc/len(valid_data), time.time()-tic))\n",
        "\n",
        "    print(\"Epoch %d: loss %.3f, train acc %.3f, test acc %.3f, in %.1f sec\" % (\n",
        "            epoch, train_loss/batch_size, train_acc/batch_size,\n",
        "            valid_acc/batch_size, time.time()-tic))\n",
        "    "
      ],
      "execution_count": 16,
      "outputs": [
        {
          "output_type": "stream",
          "text": [
            "Shape of first convolutional layer: (6, 1, 5, 5)\n",
            "Weight values of first convolutional layer: \n",
            "[[[[ 0.01807702  0.03438295  0.07969065  0.12749125  0.03805615]\n",
            "   [ 0.13255729  0.0166215   0.12859704 -0.02827276  0.04575911]\n",
            "   [ 0.05402867 -0.0428167  -0.02311321 -0.07497861  0.14508452]\n",
            "   [-0.16416161  0.17170732 -0.08419175 -0.04316488 -0.00827123]\n",
            "   [ 0.10803397  0.11560483  0.0107006  -0.00741501  0.0251988 ]]]\n",
            "\n",
            "\n",
            " [[[-0.0397048   0.15761037  0.1244594  -0.15885738 -0.06021675]\n",
            "   [-0.1528976   0.05487221 -0.17767657 -0.04879385  0.12317847]\n",
            "   [ 0.16929738  0.10300924 -0.13318819  0.13702588  0.13705368]\n",
            "   [ 0.17724578 -0.00977369  0.11078681  0.1114357  -0.01426527]\n",
            "   [ 0.00758338  0.10388784  0.06624411 -0.14136368  0.08170648]]]\n",
            "\n",
            "\n",
            " [[[-0.03072909  0.18412147  0.08159234  0.16018812 -0.18512166]\n",
            "   [-0.13771594 -0.07320179  0.18480872 -0.13081619 -0.09773365]\n",
            "   [-0.15096845 -0.03829905 -0.11618664 -0.04150979 -0.05719319]\n",
            "   [ 0.06286173 -0.0382299   0.16129233  0.01437493  0.12824865]\n",
            "   [-0.02992454 -0.06915005  0.068592    0.00909087 -0.10944962]]]\n",
            "\n",
            "\n",
            " [[[-0.02094097  0.14002748 -0.10014514 -0.17502162  0.01274444]\n",
            "   [ 0.06312889  0.15330173 -0.03062434 -0.01584825  0.02173449]\n",
            "   [-0.02566426 -0.1331748   0.16262133 -0.11180148  0.10309534]\n",
            "   [ 0.11137415  0.07997994  0.1734104   0.1121196  -0.06909426]\n",
            "   [-0.15079728  0.07122247  0.00672239  0.13938744  0.13517724]]]\n",
            "\n",
            "\n",
            " [[[-0.02370289 -0.11662294 -0.17556281  0.15981166  0.0183914 ]\n",
            "   [ 0.1658072  -0.02395193 -0.00564784 -0.02949004 -0.06646039]\n",
            "   [-0.06283177 -0.1279755  -0.10937689  0.07364441  0.04416938]\n",
            "   [-0.14074297 -0.07419349 -0.00548978 -0.0863504   0.04915652]\n",
            "   [ 0.04485925  0.11784826  0.01079214  0.06777968 -0.1353253 ]]]\n",
            "\n",
            "\n",
            " [[[-0.00053284  0.00502835  0.03214337 -0.11686076  0.08138116]\n",
            "   [ 0.10566761 -0.08943494  0.13108699  0.01711187 -0.00213426]\n",
            "   [-0.03432651  0.12834145 -0.11962165 -0.15566906  0.17391805]\n",
            "   [ 0.00194278 -0.07516979 -0.1609866  -0.07855812 -0.02661832]\n",
            "   [-0.14213437 -0.14941591 -0.11786541 -0.13807312 -0.00211467]]]]\n",
            "<NDArray 6x1x5x5 @cpu(0)>\n",
            "Grad before backward() \n",
            "[[[[0. 0. 0. 0. 0.]\n",
            "   [0. 0. 0. 0. 0.]\n",
            "   [0. 0. 0. 0. 0.]\n",
            "   [0. 0. 0. 0. 0.]\n",
            "   [0. 0. 0. 0. 0.]]]\n",
            "\n",
            "\n",
            " [[[0. 0. 0. 0. 0.]\n",
            "   [0. 0. 0. 0. 0.]\n",
            "   [0. 0. 0. 0. 0.]\n",
            "   [0. 0. 0. 0. 0.]\n",
            "   [0. 0. 0. 0. 0.]]]\n",
            "\n",
            "\n",
            " [[[0. 0. 0. 0. 0.]\n",
            "   [0. 0. 0. 0. 0.]\n",
            "   [0. 0. 0. 0. 0.]\n",
            "   [0. 0. 0. 0. 0.]\n",
            "   [0. 0. 0. 0. 0.]]]\n",
            "\n",
            "\n",
            " [[[0. 0. 0. 0. 0.]\n",
            "   [0. 0. 0. 0. 0.]\n",
            "   [0. 0. 0. 0. 0.]\n",
            "   [0. 0. 0. 0. 0.]\n",
            "   [0. 0. 0. 0. 0.]]]\n",
            "\n",
            "\n",
            " [[[0. 0. 0. 0. 0.]\n",
            "   [0. 0. 0. 0. 0.]\n",
            "   [0. 0. 0. 0. 0.]\n",
            "   [0. 0. 0. 0. 0.]\n",
            "   [0. 0. 0. 0. 0.]]]\n",
            "\n",
            "\n",
            " [[[0. 0. 0. 0. 0.]\n",
            "   [0. 0. 0. 0. 0.]\n",
            "   [0. 0. 0. 0. 0.]\n",
            "   [0. 0. 0. 0. 0.]\n",
            "   [0. 0. 0. 0. 0.]]]]\n",
            "<NDArray 6x1x5x5 @cpu(0)>\n",
            "Grad after backward():  \n",
            "[[[[ 2.8582318   2.9455712   3.2443004   2.9257858   2.502559  ]\n",
            "   [ 2.8188472   3.0294979   3.1426039   2.5850542   1.9819096 ]\n",
            "   [ 2.795858    3.1508877   2.8626304   2.715171    2.271888  ]\n",
            "   [ 3.025729    3.8767042   3.005041    2.8265266   1.8410603 ]\n",
            "   [ 2.8474188   3.188648    2.5114717   2.5859878   2.0486932 ]]]\n",
            "\n",
            "\n",
            " [[[ 0.39616996  1.2164233   1.2083578   0.72633195  1.1329367 ]\n",
            "   [ 0.6942717   1.7116095   1.8026013   1.3892071   1.5204217 ]\n",
            "   [ 1.5206068   1.724256    1.7151957   1.7040871   2.1207197 ]\n",
            "   [ 1.5203775   1.6050009   1.5590228   1.960377    2.166049  ]\n",
            "   [ 1.5090381   1.3017399   1.4574761   1.4751321   1.9844685 ]]]\n",
            "\n",
            "\n",
            " [[[-0.05631013  0.02364163 -0.0292227  -0.1360874  -0.21776158]\n",
            "   [ 0.08055468  0.20990863  0.09710796  0.26986122 -0.38234115]\n",
            "   [ 0.02685654  0.30463433  0.31093496  0.04915868 -0.32177615]\n",
            "   [ 0.42339703  0.49150503  0.38278198  0.50506794  0.17192873]\n",
            "   [ 0.3911172   0.74370366  0.31287557  0.46490258 -0.05672058]]]\n",
            "\n",
            "\n",
            " [[[-1.6231247  -1.497134   -2.019667   -0.47278252 -0.10517281]\n",
            "   [-1.5762141  -1.3680835  -1.7278585  -0.8850109  -0.59118176]\n",
            "   [-1.9045982  -1.6603894  -1.9406799  -1.005816   -0.54824436]\n",
            "   [-1.3887854  -1.5721629  -1.6155269  -1.2206745  -0.8737784 ]\n",
            "   [-1.557508   -1.6798573  -1.9841874  -1.3934352  -1.2631669 ]]]\n",
            "\n",
            "\n",
            " [[[-0.51823807 -0.3868876  -0.32568085  0.0765726   0.2523039 ]\n",
            "   [-0.39734071 -0.29697135 -0.12094859  0.2712255   0.44870368]\n",
            "   [-0.1523684  -0.21477526  0.01067488  0.40083024  0.61394376]\n",
            "   [-0.08739444 -0.05890143  0.03486757  0.48836136  0.6245724 ]\n",
            "   [ 0.07724902  0.28779495  0.2827465   0.49880663  0.7504916 ]]]\n",
            "\n",
            "\n",
            " [[[ 0.35250774 -0.04720727  0.03378685 -0.00712709 -0.1669667 ]\n",
            "   [ 0.1844033  -0.12734301  0.07380292 -0.1962212  -0.47019482]\n",
            "   [ 0.0555397  -0.3080694  -0.05540671 -0.411163   -0.42205998]\n",
            "   [ 0.67640805  0.21008039  0.12236316 -0.10265785 -0.12450004]\n",
            "   [ 0.54466605  0.27910873  0.1563469   0.08145761  0.18637112]]]]\n",
            "<NDArray 6x1x5x5 @cpu(0)>\n",
            "Weight values of first convolutional layer: \n",
            "[[[[-0.0105053   0.00492724  0.04724764  0.09823339  0.01303056]\n",
            "   [ 0.10436881 -0.01367348  0.09717099 -0.0541233   0.02594001]\n",
            "   [ 0.02607009 -0.07432558 -0.05173951 -0.10213032  0.12236563]\n",
            "   [-0.1944189   0.13294028 -0.11424216 -0.07143015 -0.02668184]\n",
            "   [ 0.07955978  0.08371835 -0.01441412 -0.03327489  0.00471187]]]\n",
            "\n",
            "\n",
            " [[[-0.0436665   0.14544614  0.11237583 -0.1661207  -0.07154612]\n",
            "   [-0.15984032  0.03775612 -0.19570258 -0.06268592  0.10797425]\n",
            "   [ 0.15409131  0.08576667 -0.15034014  0.11998501  0.11584648]\n",
            "   [ 0.162042   -0.0258237   0.09519658  0.09183192 -0.03592576]\n",
            "   [-0.007507    0.09087044  0.05166935 -0.156115    0.06186179]]]\n",
            "\n",
            "\n",
            " [[[-0.03016598  0.18388505  0.08188456  0.161549   -0.18294404]\n",
            "   [-0.13852148 -0.07530088  0.18383764 -0.1335148  -0.09391024]\n",
            "   [-0.15123701 -0.0413454  -0.11929599 -0.04200138 -0.05397543]\n",
            "   [ 0.05862775 -0.04314495  0.1574645   0.00932425  0.12652937]\n",
            "   [-0.03383571 -0.07658709  0.06546324  0.00444184 -0.10888241]]]\n",
            "\n",
            "\n",
            " [[[-0.00470973  0.15499882 -0.07994847 -0.1702938   0.01379617]\n",
            "   [ 0.07889103  0.16698256 -0.01334576 -0.00699814  0.02764631]\n",
            "   [-0.00661827 -0.11657091  0.18202813 -0.10174333  0.10857778]\n",
            "   [ 0.125262    0.09570158  0.18956567  0.12432635 -0.06035648]\n",
            "   [-0.1352222   0.08802104  0.02656427  0.1533218   0.14780891]]]\n",
            "\n",
            "\n",
            " [[[-0.01852051 -0.11275406 -0.172306    0.15904593  0.01586836]\n",
            "   [ 0.16978061 -0.02098222 -0.00443835 -0.0322023  -0.07094743]\n",
            "   [-0.06130809 -0.12582774 -0.10948364  0.06963611  0.03802994]\n",
            "   [-0.13986903 -0.07360448 -0.00583846 -0.09123401  0.04291079]\n",
            "   [ 0.04408675  0.11497031  0.00796467  0.06279161 -0.14283021]]]\n",
            "\n",
            "\n",
            " [[[-0.00405791  0.00550043  0.0318055  -0.11678949  0.08305082]\n",
            "   [ 0.10382357 -0.08816151  0.13034897  0.01907408  0.00256769]\n",
            "   [-0.0348819   0.13142215 -0.11906758 -0.15155743  0.17813866]\n",
            "   [-0.0048213  -0.0772706  -0.16221024 -0.07753155 -0.02537332]\n",
            "   [-0.14758103 -0.152207   -0.11942887 -0.13888769 -0.00397838]]]]\n",
            "<NDArray 6x1x5x5 @cpu(0)>\n",
            "Epoch 0: loss 0.246, train acc 0.010, test acc 0.010, in 0.1 sec\n"
          ],
          "name": "stdout"
        }
      ]
    },
    {
      "cell_type": "markdown",
      "metadata": {
        "id": "JjkfFm75JsCb",
        "colab_type": "text"
      },
      "source": [
        "### Running the network\n",
        "\n",
        "From the code we can see that we are running the neural network for 1 epoch. However, if you look inside the two ```for``` loops, the first ```for``` loop is for training and second ```for``` loop is for testing, on line 20 and 24, there are two ```break``` statements. These two ```break``` statements allow us to escape the loop and run only 1 batch of 10 examples. Needless to say our accuracy scores (0.01 for both training and test accuracy) won't be very good but that is not the purpose here.\n",
        "\n",
        "On line 2 we initialise the training loss, train accuracy and test accuracy to 0 and we start the timer for each epoch on line 3.\n",
        "\n",
        "#### Forward pass\n",
        "\n",
        "From line 4 we start the training. The ```for``` loop loops through each batch of 10 examples. Within the ```autograd.record()``` scope we feed in the data, store the output in a variable, and calculate the loss with our loss function.\n",
        "\n",
        "#### Layers initialization\n",
        "The first time this runs, it initialises the weights and biases. Recalling what we talked about earlier regarding the ```.collect_params()``` method, we need to feed in a dataset before the network actually initialise we can access the weights and biases.\n",
        "\n",
        "Let's have a look at the shape, the weight values and gradients of the first convolution layer. As we have not run the back propagation, we expect the gradient to 0s.\n",
        "\n",
        "#### Back propagation\n",
        "After running back propagation, i.e., ```loss.backward()```, we can see that the gradients have been calculated. \n",
        "\n",
        "#### Updating parameters\n",
        "To update the parameters in each layers, we need to call the ```trainer.step(batch_size)```. We will output this and see that the weights have been updated and are not the same as previously.\n",
        "\n",
        "#### Storing loss and accuracy\n",
        "Line 18 and 19 are where we store the loss and accuracy score.\n",
        "\n",
        "#### Testing the network\n",
        "Line 22 is where we test the network. It is very similar to how we train the network.\n",
        "\n",
        "#### Output the result\n",
        "From line 25, the code is there for outputing the results. The commented out ```print()``` statement is what we would actually run when we train over the entire dataset and test over the entire test data.\n",
        "\n",
        "However, since we only trained and tested over a batch, we will use the second ```print()``` statement."
      ]
    },
    {
      "cell_type": "code",
      "metadata": {
        "id": "14w35dyyJsfO",
        "colab_type": "code",
        "colab": {}
      },
      "source": [
        ""
      ],
      "execution_count": 0,
      "outputs": []
    }
  ]
}