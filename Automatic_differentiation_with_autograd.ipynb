{
  "nbformat": 4,
  "nbformat_minor": 0,
  "metadata": {
    "colab": {
      "name": "Automatic differentiation with autograd",
      "provenance": [],
      "collapsed_sections": [],
      "include_colab_link": true
    },
    "kernelspec": {
      "name": "python3",
      "display_name": "Python 3"
    },
    "accelerator": "GPU"
  },
  "cells": [
    {
      "cell_type": "markdown",
      "metadata": {
        "id": "view-in-github",
        "colab_type": "text"
      },
      "source": [
        "<a href=\"https://colab.research.google.com/github/bacdam91/mxnet-tutorial/blob/master/Automatic_differentiation_with_autograd.ipynb\" target=\"_parent\"><img src=\"https://colab.research.google.com/assets/colab-badge.svg\" alt=\"Open In Colab\"/></a>"
      ]
    },
    {
      "cell_type": "code",
      "metadata": {
        "id": "QACxfDpNDwAa",
        "colab_type": "code",
        "outputId": "3706fcbd-9724-435a-fc16-c747117656d9",
        "colab": {
          "base_uri": "https://localhost:8080/",
          "height": 289
        }
      },
      "source": [
        "\n",
        "!pip install mxnet"
      ],
      "execution_count": 2,
      "outputs": [
        {
          "output_type": "stream",
          "text": [
            "Collecting mxnet\n",
            "\u001b[?25l  Downloading https://files.pythonhosted.org/packages/92/6c/c6e5562f8face683cec73f5d4d74a58f8572c0595d54f1fed9d923020bbd/mxnet-1.5.1.post0-py2.py3-none-manylinux1_x86_64.whl (25.4MB)\n",
            "\u001b[K     |████████████████████████████████| 25.4MB 113kB/s \n",
            "\u001b[?25hCollecting graphviz<0.9.0,>=0.8.1\n",
            "  Downloading https://files.pythonhosted.org/packages/53/39/4ab213673844e0c004bed8a0781a0721a3f6bb23eb8854ee75c236428892/graphviz-0.8.4-py2.py3-none-any.whl\n",
            "Requirement already satisfied: numpy<2.0.0,>1.16.0 in /usr/local/lib/python3.6/dist-packages (from mxnet) (1.17.4)\n",
            "Requirement already satisfied: requests<3,>=2.20.0 in /usr/local/lib/python3.6/dist-packages (from mxnet) (2.21.0)\n",
            "Requirement already satisfied: certifi>=2017.4.17 in /usr/local/lib/python3.6/dist-packages (from requests<3,>=2.20.0->mxnet) (2019.11.28)\n",
            "Requirement already satisfied: urllib3<1.25,>=1.21.1 in /usr/local/lib/python3.6/dist-packages (from requests<3,>=2.20.0->mxnet) (1.24.3)\n",
            "Requirement already satisfied: chardet<3.1.0,>=3.0.2 in /usr/local/lib/python3.6/dist-packages (from requests<3,>=2.20.0->mxnet) (3.0.4)\n",
            "Requirement already satisfied: idna<2.9,>=2.5 in /usr/local/lib/python3.6/dist-packages (from requests<3,>=2.20.0->mxnet) (2.8)\n",
            "Installing collected packages: graphviz, mxnet\n",
            "  Found existing installation: graphviz 0.10.1\n",
            "    Uninstalling graphviz-0.10.1:\n",
            "      Successfully uninstalled graphviz-0.10.1\n",
            "Successfully installed graphviz-0.8.4 mxnet-1.5.1.post0\n"
          ],
          "name": "stdout"
        }
      ]
    },
    {
      "cell_type": "markdown",
      "metadata": {
        "id": "DeTt2zY47lS8",
        "colab_type": "text"
      },
      "source": [
        "# Automatic differentiation with ```autograd```\n",
        "\n",
        "### Minimising loss\n",
        "\n",
        "The purpose of training a neural network is so that it can get better at predicting an outcome, $Y$, from the features, $X$, we present to it. One of the ways to measure if the network is getting better is through minimising the loss or error.\n",
        "\n",
        "To achieve this goal, we can compute the gradient of the loss function with respect to weights and then update the weights accordingly. We can do this by hand or we can use the ```autograd``` package to expedite this process by automatically calculating the derivatives."
      ]
    },
    {
      "cell_type": "markdown",
      "metadata": {
        "id": "snkbSSjz9KM7",
        "colab_type": "text"
      },
      "source": [
        "### Basic usage\n",
        "\n",
        "Let's first import the necessary packages"
      ]
    },
    {
      "cell_type": "code",
      "metadata": {
        "id": "MaWMoIdiD3mw",
        "colab_type": "code",
        "colab": {}
      },
      "source": [
        "from mxnet import nd\n",
        "from mxnet import autograd"
      ],
      "execution_count": 0,
      "outputs": []
    },
    {
      "cell_type": "markdown",
      "metadata": {
        "id": "7C6XVUr49Vrc",
        "colab_type": "text"
      },
      "source": [
        "As an example, we would like to find the derivative of the function $f(x) = 2x^2$. Recalling our high school mathematics, we know that the derivative is $f'(x) = 4x$. Using this simple function as an example will help us evaluate and understand the ```autograd``` package in depth.\n",
        "\n",
        "Firstly let us assign an initial value of ```X```.\n",
        "\n"
      ]
    },
    {
      "cell_type": "code",
      "metadata": {
        "id": "ADMGsPQCEBrv",
        "colab_type": "code",
        "outputId": "4b40f770-4ce8-4b40-d922-becc4ed8c8af",
        "colab": {
          "base_uri": "https://localhost:8080/",
          "height": 85
        }
      },
      "source": [
        "X = nd.array([[1, 2], [3, 4]])\n",
        "X"
      ],
      "execution_count": 4,
      "outputs": [
        {
          "output_type": "execute_result",
          "data": {
            "text/plain": [
              "\n",
              "[[1. 2.]\n",
              " [3. 4.]]\n",
              "<NDArray 2x2 @cpu(0)>"
            ]
          },
          "metadata": {
            "tags": []
          },
          "execution_count": 4
        }
      ]
    },
    {
      "cell_type": "markdown",
      "metadata": {
        "id": "9s8oW0OZN2Lh",
        "colab_type": "text"
      },
      "source": [
        "Before we calculate the gradient of $f(x)$, we need to specify the storage by invoking the ```.attach_grad()``` method on the NDArray ```X```."
      ]
    },
    {
      "cell_type": "code",
      "metadata": {
        "id": "dWlpgZLMEGPb",
        "colab_type": "code",
        "colab": {}
      },
      "source": [
        "X.attach_grad()"
      ],
      "execution_count": 0,
      "outputs": []
    },
    {
      "cell_type": "markdown",
      "metadata": {
        "id": "WHby6AFDOVfN",
        "colab_type": "text"
      },
      "source": [
        "We can check the gradient of each value in ```X``` by accessing the ```.grad``` attribute. Since we have not actually calculated anything, we expect to see zeros."
      ]
    },
    {
      "cell_type": "code",
      "metadata": {
        "id": "j9MPKtOtEIFP",
        "colab_type": "code",
        "outputId": "49179e4a-892b-4874-a8c8-9da2eed5fee0",
        "colab": {
          "base_uri": "https://localhost:8080/",
          "height": 85
        }
      },
      "source": [
        "X.grad"
      ],
      "execution_count": 6,
      "outputs": [
        {
          "output_type": "execute_result",
          "data": {
            "text/plain": [
              "\n",
              "[[0. 0.]\n",
              " [0. 0.]]\n",
              "<NDArray 2x2 @cpu(0)>"
            ]
          },
          "metadata": {
            "tags": []
          },
          "execution_count": 6
        }
      ]
    },
    {
      "cell_type": "markdown",
      "metadata": {
        "id": "-39b3ZoEOmrY",
        "colab_type": "text"
      },
      "source": [
        "Now we are going to define the function $y = f(x)$. To let MXNet store $Y$, so that we can compute gradients later, we need to put the definition inside an ```autograd.record()``` scope."
      ]
    },
    {
      "cell_type": "code",
      "metadata": {
        "id": "tEFsPXo1EI5V",
        "colab_type": "code",
        "outputId": "4cca937f-48a1-414f-d401-80b45ddedf7a",
        "colab": {
          "base_uri": "https://localhost:8080/",
          "height": 85
        }
      },
      "source": [
        "with autograd.record():\n",
        "    Y = 2 * X * X\n",
        "Y"
      ],
      "execution_count": 7,
      "outputs": [
        {
          "output_type": "execute_result",
          "data": {
            "text/plain": [
              "\n",
              "[[ 2.  8.]\n",
              " [18. 32.]]\n",
              "<NDArray 2x2 @cpu(0)>"
            ]
          },
          "metadata": {
            "tags": []
          },
          "execution_count": 7
        }
      ]
    },
    {
      "cell_type": "markdown",
      "metadata": {
        "id": "pQ1LwEhTP4gM",
        "colab_type": "text"
      },
      "source": [
        "Outputing ```Y``` we can see that the values in ```X``` are plugged into $f(x)$. We can manually evaluate this to understand what has happened.\n",
        "\n",
        "1. $f(1) = 2 \\times 1^{2} = 2$\n",
        "2. $f(2) = 2 \\times 2^{2} = 2 \\times 4 = 8$\n",
        "3. $f(3) = 2 \\times 3^{2} = 2 \\times 9 = 18$\n",
        "4. $f(4) = 2 \\times 4^{2} = 2 \\times 16 = 32$\n",
        "\n",
        "We can see that ```Y``` now stores the value results of $f(x)$ over the values in ```X```.\n",
        "\n"
      ]
    },
    {
      "cell_type": "markdown",
      "metadata": {
        "id": "WveSrHdQQmD3",
        "colab_type": "text"
      },
      "source": [
        "To calculate the gradient of $f(x)$, in other words, calculating $f'(x)$, we need to call the ```.backward()``` method on ```Y```, which invoke back propagation."
      ]
    },
    {
      "cell_type": "code",
      "metadata": {
        "id": "FXGORqhWEYpp",
        "colab_type": "code",
        "outputId": "aa9fda7d-2182-483e-f16e-bb0c6f9864bc",
        "colab": {
          "base_uri": "https://localhost:8080/",
          "height": 459
        }
      },
      "source": [
        "print(\"Before back-prop\")\n",
        "print(X)\n",
        "print(X.grad)\n",
        "print(Y)\n",
        "Y.backward()\n",
        "print(\"After back-prop\")\n",
        "print(X)\n",
        "print(X.grad)\n",
        "print(Y)"
      ],
      "execution_count": 8,
      "outputs": [
        {
          "output_type": "stream",
          "text": [
            "Before back-prop\n",
            "\n",
            "[[1. 2.]\n",
            " [3. 4.]]\n",
            "<NDArray 2x2 @cpu(0)>\n",
            "\n",
            "[[0. 0.]\n",
            " [0. 0.]]\n",
            "<NDArray 2x2 @cpu(0)>\n",
            "\n",
            "[[ 2.  8.]\n",
            " [18. 32.]]\n",
            "<NDArray 2x2 @cpu(0)>\n",
            "After back-prop\n",
            "\n",
            "[[1. 2.]\n",
            " [3. 4.]]\n",
            "<NDArray 2x2 @cpu(0)>\n",
            "\n",
            "[[ 4.  8.]\n",
            " [12. 16.]]\n",
            "<NDArray 2x2 @cpu(0)>\n",
            "\n",
            "[[ 2.  8.]\n",
            " [18. 32.]]\n",
            "<NDArray 2x2 @cpu(0)>\n"
          ],
          "name": "stdout"
        }
      ]
    },
    {
      "cell_type": "markdown",
      "metadata": {
        "id": "8sQSu7BsRiCn",
        "colab_type": "text"
      },
      "source": [
        "We can see that before calling the ```.backward()``` method on ```Y```, the values of ```X.grad``` are zeros. After invoking back propagation, ```X.grad``` gives us the gradient at each $x$ value. \n",
        "\n",
        "We can manually check this to confirm the values are as we expected.\n",
        "\n",
        "$f(x) = 2x^{2}$\n",
        "\n",
        "$f'(x) = 4x$\n",
        "\n",
        "1. $f'(1) = 4 \\times 1 = 4$\n",
        "2. $f'(2) = 4 \\times 2 = 8$\n",
        "3. $f'(3) = 4 \\times 3 = 12$\n",
        "4. $f'(4) = 4 \\times 4 = 16$"
      ]
    },
    {
      "cell_type": "markdown",
      "metadata": {
        "id": "Prt2WUPvceEb",
        "colab_type": "text"
      },
      "source": [
        "### Using Python control flows\n",
        "\n",
        "Sometimes we want to write dynamic programs where the execution depends on some real-time values. MXNet will record the execution trace and compute the gradient as well.\n",
        "\n",
        "Consider the following function f(a): it doubles the inputs until its norm reaches 1000. Then it selects one element depending on the sum of its elements.\n",
        "\n",
        "We will ask it to output ```b``` during the calculation and tell us when its norm is greater than 1000."
      ]
    },
    {
      "cell_type": "code",
      "metadata": {
        "id": "pvgV19nXS0fG",
        "colab_type": "code",
        "colab": {}
      },
      "source": [
        "def f(a):\n",
        "    b = a * 2\n",
        "    while b.norm().asscalar() < 1000:\n",
        "        b = b * 2\n",
        "        print(b)\n",
        "        print(b.sum().asscalar())\n",
        "        print(b.norm().asscalar())\n",
        "    \n",
        "    print(\"Done\")\n",
        "    if b.sum().asscalar() >= 0:\n",
        "        c = b[0]\n",
        "    else:\n",
        "        c = b[1]\n",
        "    return c"
      ],
      "execution_count": 0,
      "outputs": []
    },
    {
      "cell_type": "markdown",
      "metadata": {
        "id": "oTuG_LICia6R",
        "colab_type": "text"
      },
      "source": [
        "We record the trace and feed in a random value. We will let the range be between -1 and 1 so the simulation can produce a sum of ```b``` of less than 0 while the norm (```b.norm()``` is greater than 1000."
      ]
    },
    {
      "cell_type": "code",
      "metadata": {
        "id": "wV5-w1XsS9Cr",
        "colab_type": "code",
        "outputId": "6e888059-eecf-4f4a-a1da-099ad5ddcb87",
        "colab": {
          "base_uri": "https://localhost:8080/",
          "height": 1000
        }
      },
      "source": [
        "a = nd.random.uniform(-1, 1, shape=2)\n",
        "print(a)\n",
        "a.attach_grad()\n",
        "with autograd.record():\n",
        "    c = f(a)\n",
        "c.backward()\n",
        "c"
      ],
      "execution_count": 10,
      "outputs": [
        {
          "output_type": "stream",
          "text": [
            "\n",
            "[0.09762704 0.18568921]\n",
            "<NDArray 2 @cpu(0)>\n",
            "\n",
            "[0.39050817 0.74275684]\n",
            "<NDArray 2 @cpu(0)>\n",
            "1.133265\n",
            "0.8391569\n",
            "\n",
            "[0.78101635 1.4855137 ]\n",
            "<NDArray 2 @cpu(0)>\n",
            "2.26653\n",
            "1.6783139\n",
            "\n",
            "[1.5620327 2.9710274]\n",
            "<NDArray 2 @cpu(0)>\n",
            "4.53306\n",
            "3.3566277\n",
            "\n",
            "[3.1240654 5.9420547]\n",
            "<NDArray 2 @cpu(0)>\n",
            "9.06612\n",
            "6.7132554\n",
            "\n",
            "[ 6.248131  11.8841095]\n",
            "<NDArray 2 @cpu(0)>\n",
            "18.13224\n",
            "13.426511\n",
            "\n",
            "[12.496262 23.768219]\n",
            "<NDArray 2 @cpu(0)>\n",
            "36.26448\n",
            "26.853022\n",
            "\n",
            "[24.992523 47.536438]\n",
            "<NDArray 2 @cpu(0)>\n",
            "72.52896\n",
            "53.706043\n",
            "\n",
            "[49.985046 95.072876]\n",
            "<NDArray 2 @cpu(0)>\n",
            "145.05792\n",
            "107.41209\n",
            "\n",
            "[ 99.97009 190.14575]\n",
            "<NDArray 2 @cpu(0)>\n",
            "290.11584\n",
            "214.82417\n",
            "\n",
            "[199.94019 380.2915 ]\n",
            "<NDArray 2 @cpu(0)>\n",
            "580.2317\n",
            "429.64835\n",
            "\n",
            "[399.88037 760.583  ]\n",
            "<NDArray 2 @cpu(0)>\n",
            "1160.4634\n",
            "859.2967\n",
            "\n",
            "[ 799.76074 1521.166  ]\n",
            "<NDArray 2 @cpu(0)>\n",
            "2320.9268\n",
            "1718.5934\n",
            "Done\n"
          ],
          "name": "stdout"
        },
        {
          "output_type": "execute_result",
          "data": {
            "text/plain": [
              "\n",
              "[799.76074]\n",
              "<NDArray 1 @cpu(0)>"
            ]
          },
          "metadata": {
            "tags": []
          },
          "execution_count": 10
        }
      ]
    },
    {
      "cell_type": "markdown",
      "metadata": {
        "id": "14TCaUs0i_Kg",
        "colab_type": "text"
      },
      "source": [
        "We know that ```b``` is a linear function of ```a```, and ```c``` is chosen from ```b```. Then the gradient with respect to a be will be either ```[c/a[0], 0]``` or ```[0, c/a[1]]```, depending on which element from b we picked. Let’s find the results:"
      ]
    },
    {
      "cell_type": "code",
      "metadata": {
        "id": "0vRMlhtCS-sE",
        "colab_type": "code",
        "outputId": "d373b5c6-fd8b-42ba-f824-817a8813e200",
        "colab": {
          "base_uri": "https://localhost:8080/",
          "height": 102
        }
      },
      "source": [
        "[a.grad, c/a]"
      ],
      "execution_count": 11,
      "outputs": [
        {
          "output_type": "execute_result",
          "data": {
            "text/plain": [
              "[\n",
              " [8192.    0.]\n",
              " <NDArray 2 @cpu(0)>, \n",
              " [8192.     4306.9854]\n",
              " <NDArray 2 @cpu(0)>]"
            ]
          },
          "metadata": {
            "tags": []
          },
          "execution_count": 11
        }
      ]
    },
    {
      "cell_type": "markdown",
      "metadata": {
        "id": "LaKi6USOX_oK",
        "colab_type": "text"
      },
      "source": [
        "### A quick side note\n",
        "\n",
        "The ```.norm()``` method calculates, by default, the $l_2$ norm of a matrix. The resulting value is an array of a single value, i.e., a scalar, but it requires explicit conversion to a scalar with the method ```.asscalar()```.\n",
        "\n",
        "The section below is a manual calculation of the $l_2$ norm and is optional but will help us to gain a better understanding of the $l_2$ norm calculation."
      ]
    },
    {
      "cell_type": "markdown",
      "metadata": {
        "id": "oiU_2MbmYs2A",
        "colab_type": "text"
      },
      "source": [
        "### The $l_2$ norm\n",
        "\n",
        "The $l_2$ norm is defined according to the following equation:\n",
        "\n",
        "$||X||_{2} = (\\sum^{n}_{i = 1} x_i^2)^{\\frac{1}{2}}$\n",
        "\n",
        "The equation may look complicate it but it is quite simple. Basically it is asking us to find the square root of the sum of all values in $X$ squared. This will make more sense when we go to calculate it by manually.\n",
        "\n",
        "Let's define a matrix, $X$, and calculate its norm.\n"
      ]
    },
    {
      "cell_type": "code",
      "metadata": {
        "id": "F3ueskGxYq8o",
        "colab_type": "code",
        "colab": {}
      },
      "source": [
        "X = nd.array([[2, 4], [7, 5]])"
      ],
      "execution_count": 0,
      "outputs": []
    },
    {
      "cell_type": "code",
      "metadata": {
        "id": "s0nK5LW-ZpBH",
        "colab_type": "code",
        "outputId": "33714925-bdac-4e98-d6bb-26a283f17b83",
        "colab": {
          "base_uri": "https://localhost:8080/",
          "height": 68
        }
      },
      "source": [
        "X.norm()"
      ],
      "execution_count": 13,
      "outputs": [
        {
          "output_type": "execute_result",
          "data": {
            "text/plain": [
              "\n",
              "[9.695359]\n",
              "<NDArray 1 @cpu(0)>"
            ]
          },
          "metadata": {
            "tags": []
          },
          "execution_count": 13
        }
      ]
    },
    {
      "cell_type": "markdown",
      "metadata": {
        "id": "OoHLNlXYZ1W2",
        "colab_type": "text"
      },
      "source": [
        "Now let us manually work out the norm according the equation for $l_2$ norm above.\n",
        "\n",
        "1. when $i = 1$, $x = 2$, i.e., ```X[0,0]```, hence the $x^2$ equals $4$.\n",
        "2. when $i = 2$, $x = 3$, i.e., ```X[0,1]```, hence the $x^2$ equals $16$.\n",
        "3. when $i = 3$, $x = 7$, i.e., ```X[1,0]```, hence the $x^2$ equals $49$.\n",
        "4. when $i = 4$, $x = 5$, i.e., ```X[1,1]```, hence the $x^2$ equals $25$.\n",
        "5. the sum of those values is $4 + 16 + 49 + 25 = 94$\n",
        "6. the square root of the sum is $\\sqrt{94} \\approx 9.695359$, which is the same as the value calculated by the ```.norm()``` method.\n",
        "\n",
        "Putting it all together:\n",
        "\n",
        "$||X||_2 = \\sqrt{2^2 + 4^2 + 7^2 + 5^2} = \\sqrt{94} \\approx 9.695359$"
      ]
    },
    {
      "cell_type": "markdown",
      "metadata": {
        "id": "iTnKVrRujOvv",
        "colab_type": "text"
      },
      "source": [
        "### The sum\n",
        "\n",
        "The method ```.sum()``` simplies add all the values together. Consider the same matrix $X$, the sum of $X$, e.g., ```X.sum()``` equals 18.\n",
        "\n",
        "$sum(X) = 2 + 4 + 7 + 5 = 18$\n",
        "\n",
        "We can check by calling the ```.sum()``` method."
      ]
    },
    {
      "cell_type": "code",
      "metadata": {
        "id": "_o-rCsRfcrUF",
        "colab_type": "code",
        "outputId": "26dd3bd3-4fd4-44bc-bf2b-5c3b99f7c8c6",
        "colab": {
          "base_uri": "https://localhost:8080/",
          "height": 68
        }
      },
      "source": [
        "X.sum()"
      ],
      "execution_count": 14,
      "outputs": [
        {
          "output_type": "execute_result",
          "data": {
            "text/plain": [
              "\n",
              "[18.]\n",
              "<NDArray 1 @cpu(0)>"
            ]
          },
          "metadata": {
            "tags": []
          },
          "execution_count": 14
        }
      ]
    },
    {
      "cell_type": "markdown",
      "metadata": {
        "id": "s3D6F5Mr806L",
        "colab_type": "text"
      },
      "source": [
        "### More fun with ```autograd```\n",
        "\n",
        "Now that we have an understanding of what ```autograd``` is and how it works, let's muck around with it a little by using it to plot a graph and its gradient function. We will use ```matplotlib``` to plot the two graphs. If you are unfamiliar with ```matplotlib```, please check out my channel for the tutorials."
      ]
    },
    {
      "cell_type": "markdown",
      "metadata": {
        "id": "80S7UHvp9POR",
        "colab_type": "text"
      },
      "source": [
        "#### Defining a function\n",
        "\n",
        "Let's define a simple quadratic function, $f(x) = x^{2}. $"
      ]
    },
    {
      "cell_type": "code",
      "metadata": {
        "id": "deFptHKcjoHv",
        "colab_type": "code",
        "colab": {}
      },
      "source": [
        "def f(x):\n",
        "    y = x ** 2\n",
        "    return y"
      ],
      "execution_count": 0,
      "outputs": []
    },
    {
      "cell_type": "markdown",
      "metadata": {
        "id": "TW93zezw9hYo",
        "colab_type": "text"
      },
      "source": [
        "Let's create some $x$ values and store them in an ```NDArray``` and call the ```.attach_grad()``` method to store the gradients at the $x$ values when we perform back propagation."
      ]
    },
    {
      "cell_type": "code",
      "metadata": {
        "id": "Hx14HH-6jNDr",
        "colab_type": "code",
        "outputId": "10d02a98-c5fc-42aa-d02f-13a35bcc567f",
        "colab": {
          "base_uri": "https://localhost:8080/",
          "height": 136
        }
      },
      "source": [
        "x = nd.array([i for i in range(-10, 11)])\n",
        "x.attach_grad()\n",
        "print(\"x\", x)\n",
        "print(\"x.grad\", x.grad)"
      ],
      "execution_count": 56,
      "outputs": [
        {
          "output_type": "stream",
          "text": [
            "x \n",
            "[-10.  -9.  -8.  -7.  -6.  -5.  -4.  -3.  -2.  -1.   0.   1.   2.   3.\n",
            "   4.   5.   6.   7.   8.   9.  10.]\n",
            "<NDArray 21 @cpu(0)>\n",
            "x.grad \n",
            "[0. 0. 0. 0. 0. 0. 0. 0. 0. 0. 0. 0. 0. 0. 0. 0. 0. 0. 0. 0. 0.]\n",
            "<NDArray 21 @cpu(0)>\n"
          ],
          "name": "stdout"
        }
      ]
    },
    {
      "cell_type": "markdown",
      "metadata": {
        "id": "bhpFwqyf950d",
        "colab_type": "text"
      },
      "source": [
        "Let's calculate $y$ by calling the ```f(x)``` function within the ```autograd.record()``` scope."
      ]
    },
    {
      "cell_type": "code",
      "metadata": {
        "id": "xgZqJH4ljyJ8",
        "colab_type": "code",
        "colab": {
          "base_uri": "https://localhost:8080/",
          "height": 85
        },
        "outputId": "e84d18da-bd7d-481a-c32a-2886d1231341"
      },
      "source": [
        "with autograd.record():\n",
        "    y = f(x)\n",
        "print(\"y\", y)"
      ],
      "execution_count": 57,
      "outputs": [
        {
          "output_type": "stream",
          "text": [
            "y \n",
            "[100.  81.  64.  49.  36.  25.  16.   9.   4.   1.   0.   1.   4.   9.\n",
            "  16.  25.  36.  49.  64.  81. 100.]\n",
            "<NDArray 21 @cpu(0)>\n"
          ],
          "name": "stdout"
        }
      ]
    },
    {
      "cell_type": "markdown",
      "metadata": {
        "id": "sdk0E33A-FYA",
        "colab_type": "text"
      },
      "source": [
        "We will now perform back propagation by calling ```.backward()```. We can store the gradients in a separate variable, ```grad```.\n",
        "\n",
        "Manually deriving $y = x^{2}$, we get $\\frac{dy}{dx} = 2x$. So if $x = -10$ the gradient should be $-20$. Inspecting the array of gradient, ```grad```, we see that the first element is ```-20```."
      ]
    },
    {
      "cell_type": "code",
      "metadata": {
        "id": "gp4RrlyakDSq",
        "colab_type": "code",
        "outputId": "a39fa6da-6652-4969-ce00-5972b109b7af",
        "colab": {
          "base_uri": "https://localhost:8080/",
          "height": 85
        }
      },
      "source": [
        "y.backward()\n",
        "grad = x.grad\n",
        "print(\"grad\", grad)"
      ],
      "execution_count": 58,
      "outputs": [
        {
          "output_type": "stream",
          "text": [
            "grad \n",
            "[-20. -18. -16. -14. -12. -10.  -8.  -6.  -4.  -2.   0.   2.   4.   6.\n",
            "   8.  10.  12.  14.  16.  18.  20.]\n",
            "<NDArray 21 @cpu(0)>\n"
          ],
          "name": "stdout"
        }
      ]
    },
    {
      "cell_type": "markdown",
      "metadata": {
        "id": "Dv_gxGXw-1fD",
        "colab_type": "text"
      },
      "source": [
        "We'll import ```numpy``` and ```matplotlib```, and create three arrays of x values, y values and plot titles for use in ```zip()``` function for parallel iteration. We'll create a subplot and graph the two functions as $f(x)$ and $f'(x)$."
      ]
    },
    {
      "cell_type": "code",
      "metadata": {
        "id": "2-AiR3jtjkzk",
        "colab_type": "code",
        "colab": {
          "base_uri": "https://localhost:8080/",
          "height": 350
        },
        "outputId": "9b4dde0f-91c3-4ab7-a943-62e443382c55"
      },
      "source": [
        "import numpy as np\n",
        "import matplotlib.pyplot as plt\n",
        "\n",
        "x_vals = np.array([x.asnumpy(), x.asnumpy()])\n",
        "y_vals = np.array([y.asnumpy(), grad.asnumpy()])\n",
        "titles = np.array([\"f(x)\", \"f`(x)\"])\n",
        "\n",
        "fig, ax = plt.subplots(1, 2, figsize=(8, 5))\n",
        "for ax_i, x_i, y_i, t in zip(ax, x_vals, y_vals,titles):\n",
        "    ax_i.plot(x_i, y_i)\n",
        "    ax_i.set_title(t)\n",
        "    ax_i.set_xlabel(\"x\")"
      ],
      "execution_count": 59,
      "outputs": [
        {
          "output_type": "display_data",
          "data": {
            "image/png": "[encoded data removed]",
            "text/plain": [
              "<Figure size 576x360 with 2 Axes>"
            ]
          },
          "metadata": {
            "tags": []
          }
        }
      ]
    },
    {
      "cell_type": "code",
      "metadata": {
        "id": "D8eukogZrhvN",
        "colab_type": "code",
        "colab": {}
      },
      "source": [
        ""
      ],
      "execution_count": 0,
      "outputs": []
    }
  ]
}